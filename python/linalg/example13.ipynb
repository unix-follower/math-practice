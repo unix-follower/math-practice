{
 "cells": [
  {
   "cell_type": "markdown",
   "id": "8340ea73-b011-4465-8865-72c9cc59b6fc",
   "metadata": {},
   "source": [
    "References\n",
    "----------\n",
    "[1] Jim Hefferon, Mathematics and Statistics,\n",
    "    Saint Michael's College Colchester, Vermont USA 05439\n",
    "    2020-Apr-26.\n",
    "    \n",
    "[2] https://hefferon.net/linearalgebra/\n",
    "\n",
    "[3] Page 13. 2.3 Example.\n",
    "$$\n",
    "\\begin{gather}\n",
    "x+y+z-w=1 \\\\\n",
    "y-z+w=-1 \\\\\n",
    "3x+6z-6w=6 \\\\\n",
    "-y+z-w=1\n",
    "\\end{gather}\n",
    "$$"
   ]
  },
  {
   "cell_type": "code",
   "execution_count": null,
   "id": "d395faec-177d-46ab-9e23-344790a33be1",
   "metadata": {},
   "outputs": [
    {
     "name": "stdout",
     "output_type": "stream",
     "text": [
      "SymPy version: 1.12\n",
      "<class 'dict'>\n",
      "{x: 2*w - 2*z + 2, y: -w + z - 1}\n"
     ]
    }
   ],
   "source": [
    "import sympy as sp\n",
    "\n",
    "print(f\"SymPy version: {sp.__version__}\")\n",
    "\n",
    "x, y, z, w = sp.symbols(\"x, y, z, w\")\n",
    "\n",
    "equation1 = x + y + z - w - 1\n",
    "equation2 = y - z + w + 1\n",
    "equation3 = 3 * x + 6 * z - 6 * w - 6\n",
    "equation4 = -y + z - w - 1\n",
    "\n",
    "result: dict = sp.solve([equation1, equation2, equation3, equation4], (x, y, z, w))\n",
    "print(type(result))\n",
    "print(result)\n",
    "\n",
    "assert \"2*w - 2*z + 2\" == str(result[x]), \"There are many solutions\"\n",
    "assert \"-w + z - 1\" == str(result[y]), \"There are many solutions\""
   ]
  }
 ],
 "metadata": {
  "kernelspec": {
   "display_name": "Python 3 (ipykernel)",
   "language": "python",
   "name": "python3"
  },
  "language_info": {
   "codemirror_mode": {
    "name": "ipython",
    "version": 3
   },
   "file_extension": ".py",
   "mimetype": "text/x-python",
   "name": "python",
   "nbconvert_exporter": "python",
   "pygments_lexer": "ipython3",
   "version": "3.12.4"
  }
 },
 "nbformat": 4,
 "nbformat_minor": 5
}
