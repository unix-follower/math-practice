{
 "cells": [
  {
   "cell_type": "markdown",
   "id": "8340ea73-b011-4465-8865-72c9cc59b6fc",
   "metadata": {},
   "source": [
    "References\n",
    "----------\n",
    "[1] Jim Hefferon, Mathematics and Statistics,\n",
    "    Saint Michael's College Colchester, Vermont USA 05439\n",
    "    2020-Apr-26.\n",
    "    \n",
    "[2] https://hefferon.net/linearalgebra/\n",
    "\n",
    "[3] Page 19. 2.14 Example.\n",
    "$$\n",
    "\\begin{gather}\n",
    "x-y+z=1 \\\\\n",
    "3x+z=3 \\\\\n",
    "5x-2y+3z=5\n",
    "\\end{gather}\n",
    "$$\n",
    "$$\n",
    "\\begin{equation}\n",
    "    \\left(\\begin{array}{ccc|c}\n",
    "    1 & -1 & 1 & 1 \\\\\n",
    "    3 & 0 & 1 & 3 \\\\\n",
    "    5 & -2 & 3 & 5\n",
    "    \\end{array}\\right)\n",
    "\\end{equation}\n",
    "$$"
   ]
  },
  {
   "cell_type": "code",
   "execution_count": 5,
   "id": "d395faec-177d-46ab-9e23-344790a33be1",
   "metadata": {},
   "outputs": [
    {
     "name": "stdout",
     "output_type": "stream",
     "text": [
      "SymPy version: 1.12\n",
      "<class 'dict'>\n",
      "{x: 1 - z/3, y: 2*z/3}\n"
     ]
    }
   ],
   "source": [
    "import sympy as sp\n",
    "\n",
    "print(f\"SymPy version: {sp.__version__}\")\n",
    "\n",
    "x, y, z = sp.symbols(\"x, y, z\")\n",
    "\n",
    "equation1 = x - y + z - 1\n",
    "equation2 = 3 * x + z - 3\n",
    "equation3 = 5 * x - 2 * y + 3 * z - 5\n",
    "\n",
    "result: dict = sp.solve([equation1, equation2, equation3], (x, y, z))\n",
    "print(type(result))\n",
    "print(result)\n",
    "\n",
    "assert \"1 - z/3\" == str(result[x])\n",
    "assert \"2*z/3\" == str(result[y])"
   ]
  },
  {
   "cell_type": "code",
   "execution_count": 7,
   "id": "8d817ccd-ffad-425b-be40-5d3837e15319",
   "metadata": {},
   "outputs": [
    {
     "name": "stdout",
     "output_type": "stream",
     "text": [
      "<class 'dict'>\n",
      "{x: 1 - z/3, y: 2*z/3}\n"
     ]
    }
   ],
   "source": [
    "import sympy as sp\n",
    "from sympy.matrices import Matrix\n",
    "\n",
    "coefficient_matrix = Matrix([[1, -1, 1], [3, 0, 1], [5, -2, 3]])\n",
    "constant_vector = Matrix([1, 3, 5])\n",
    "augmented_matrix = coefficient_matrix.row_join(constant_vector)\n",
    "\n",
    "variables = sp.symbols(\"x, y, z\")\n",
    "result: dict = sp.solve_linear_system(augmented_matrix, *variables)\n",
    "print(type(result))\n",
    "print(result)\n",
    "\n",
    "x, y, z = variables\n",
    "assert \"1 - z/3\" == str(result[x])\n",
    "assert \"2*z/3\" == str(result[y])"
   ]
  }
 ],
 "metadata": {
  "kernelspec": {
   "display_name": "Python 3 (ipykernel)",
   "language": "python",
   "name": "python3"
  },
  "language_info": {
   "codemirror_mode": {
    "name": "ipython",
    "version": 3
   },
   "file_extension": ".py",
   "mimetype": "text/x-python",
   "name": "python",
   "nbconvert_exporter": "python",
   "pygments_lexer": "ipython3",
   "version": "3.12.4"
  }
 },
 "nbformat": 4,
 "nbformat_minor": 5
}
