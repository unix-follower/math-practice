{
 "cells": [
  {
   "cell_type": "markdown",
   "id": "8340ea73-b011-4465-8865-72c9cc59b6fc",
   "metadata": {},
   "source": [
    "References\n",
    "----------\n",
    "[1] Jim Hefferon, Mathematics and Statistics,\n",
    "    Saint Michael's College Colchester, Vermont USA 05439\n",
    "    2020-Apr-26.\n",
    "    \n",
    "[2] https://hefferon.net/linearalgebra/\n",
    "\n",
    "[3] Page 8. 1.16 Example.\n",
    "$$\n",
    "\\begin{gather}\n",
    "2x-2z=6 \\\\\n",
    "y+z=1 \\\\\n",
    "2x+y-z=7 \\\\\n",
    "3y+3z=0\n",
    "\\end{gather}\n",
    "$$"
   ]
  },
  {
   "cell_type": "code",
   "execution_count": null,
   "id": "d395faec-177d-46ab-9e23-344790a33be1",
   "metadata": {},
   "outputs": [
    {
     "name": "stdout",
     "output_type": "stream",
     "text": [
      "SymPy version: 1.12\n",
      "<class 'list'>\n",
      "[]\n"
     ]
    }
   ],
   "source": [
    "import sympy as sp\n",
    "\n",
    "print(f\"SymPy version: {sp.__version__}\")\n",
    "\n",
    "x, y, z = sp.symbols(\"x, y, z\")\n",
    "\n",
    "equation1 = 2 * x - 2 * z - 6\n",
    "equation2 = y + z - 1\n",
    "equation3 = 2 * x + y - z - 7\n",
    "equation4 = 3 * y + 3 * z\n",
    "\n",
    "result: dict = sp.solve([equation1, equation2, equation3, equation4], (x, y, z))\n",
    "print(type(result))\n",
    "print(result)\n",
    "\n",
    "assert 0 == len(result), \"There is no solution\""
   ]
  }
 ],
 "metadata": {
  "kernelspec": {
   "display_name": "Python 3 (ipykernel)",
   "language": "python",
   "name": "python3"
  },
  "language_info": {
   "codemirror_mode": {
    "name": "ipython",
    "version": 3
   },
   "file_extension": ".py",
   "mimetype": "text/x-python",
   "name": "python",
   "nbconvert_exporter": "python",
   "pygments_lexer": "ipython3",
   "version": "3.12.4"
  }
 },
 "nbformat": 4,
 "nbformat_minor": 5
}
