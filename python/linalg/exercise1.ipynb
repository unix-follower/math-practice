{
 "cells": [
  {
   "cell_type": "markdown",
   "id": "bc5a080a-c8e5-418c-86e5-1e52a36d5dd5",
   "metadata": {},
   "source": [
    "References\n",
    "----------\n",
    "[1] Jim Hefferon, Mathematics and Statistics,\n",
    "    Saint Michael's College Colchester, Vermont USA 05439\n",
    "    2020-Apr-26.\n",
    "    \n",
    "[2] https://hefferon.net/linearalgebra/\n",
    "\n",
    "[3] Page 9. Exercises. 1.17. a.\n",
    "$$\n",
    "\\begin{gather}\n",
    "2x+3y=13 \\\\\n",
    "x-y=-1\n",
    "\\end{gather}\n",
    "$$"
   ]
  },
  {
   "cell_type": "code",
   "execution_count": 22,
   "id": "b56dec61-0f3d-4cd6-a3fa-0d092ef93aee",
   "metadata": {},
   "outputs": [
    {
     "name": "stdout",
     "output_type": "stream",
     "text": [
      "NumPy version: 1.26.4\n",
      "Matplotlib version: 3.8.4\n",
      "\n",
      "coefficient_matrix:\n",
      "[[ 2  3]\n",
      " [ 1 -1]]\n",
      "constant_vector: [13 -1]\n",
      "<class 'numpy.ndarray'>\n",
      "result: [2. 3.]\n"
     ]
    },
    {
     "data": {
      "image/png": "[encoded data removed]",
      "text/plain": [
       "<Figure size 600x200 with 1 Axes>"
      ]
     },
     "metadata": {},
     "output_type": "display_data"
    }
   ],
   "source": [
    "import numpy as np\n",
    "import matplotlib\n",
    "from matplotlib import pyplot as plt\n",
    "\n",
    "print(f\"NumPy version: {np.__version__}\")\n",
    "print(f\"Matplotlib version: {matplotlib.__version__}\")\n",
    "print()\n",
    "\n",
    "coefficient_matrix = np.array([\n",
    "    [2, 3],\n",
    "    [1, -1]\n",
    "])\n",
    "print(f\"coefficient_matrix:\\n{coefficient_matrix}\")\n",
    "\n",
    "constant_vector = np.array([13, -1])\n",
    "print(f\"constant_vector: {constant_vector}\")\n",
    "\n",
    "result = np.linalg.solve(coefficient_matrix, constant_vector)\n",
    "print(type(result))\n",
    "print(f\"result: {result}\")\n",
    "\n",
    "figure, axes = plt.subplots(figsize=(6, 2))\n",
    "axes: plt.Axes\n",
    "axes.plot(result, marker=\"o\", markersize=5)\n",
    "axes.set_xlabel(\"x\")\n",
    "axes.set_ylabel(\"y\")\n",
    "plt.show()"
   ]
  },
  {
   "cell_type": "code",
   "execution_count": 17,
   "id": "0c79a8c8-de9d-4540-a6ed-24c610b60f3f",
   "metadata": {},
   "outputs": [
    {
     "name": "stdout",
     "output_type": "stream",
     "text": [
      "SciPy version: 1.13.1\n",
      "\n",
      "coefficient_matrix: [[2, 3], [1, -1]]\n",
      "constant_vector: [13, -1]\n",
      "<class 'numpy.ndarray'>\n"
     ]
    },
    {
     "data": {
      "text/plain": [
       "array([2., 3.])"
      ]
     },
     "execution_count": 17,
     "metadata": {},
     "output_type": "execute_result"
    }
   ],
   "source": [
    "import scipy\n",
    "\n",
    "print(f\"SciPy version: {scipy.__version__}\")\n",
    "print()\n",
    "\n",
    "coefficient_matrix = [\n",
    "    [2, 3],\n",
    "    [1, -1]\n",
    "]\n",
    "print(f\"coefficient_matrix: {coefficient_matrix}\")\n",
    "constant_vector = [13, -1]\n",
    "print(f\"constant_vector: {constant_vector}\")\n",
    "\n",
    "result = scipy.linalg.solve(coefficient_matrix, constant_vector)\n",
    "print(type(result))\n",
    "result"
   ]
  },
  {
   "cell_type": "code",
   "execution_count": 10,
   "id": "c477a74c-0ed8-4947-afef-7b7f2d4f0898",
   "metadata": {},
   "outputs": [
    {
     "name": "stdout",
     "output_type": "stream",
     "text": [
      "SymPy version: 1.12\n",
      "\n"
     ]
    },
    {
     "data": {
      "text/plain": [
       "{x: 2, y: 3}"
      ]
     },
     "execution_count": 10,
     "metadata": {},
     "output_type": "execute_result"
    }
   ],
   "source": [
    "import sympy as sp\n",
    "from sympy.abc import x, y\n",
    "\n",
    "print(f\"SymPy version: {sp.__version__}\")\n",
    "print()\n",
    "\n",
    "equation1 = 2 * x + 3 * y - 13\n",
    "equation2 = x - y + 1\n",
    "\n",
    "sp.solve([equation1, equation2], (x, y))"
   ]
  },
  {
   "cell_type": "code",
   "execution_count": 20,
   "id": "fc4ccaf7-6292-4c7e-b61b-ce02fb5489ed",
   "metadata": {},
   "outputs": [
    {
     "name": "stdout",
     "output_type": "stream",
     "text": [
      "TensorFlow version: 2.16.2\n",
      "\n",
      "coefficient_matrix:\n",
      "[[ 2.  3.]\n",
      " [ 1. -1.]]\n",
      "constant_vector: [13. -1.]\n",
      "<class 'tensorflow.python.framework.ops.EagerTensor'>\n"
     ]
    },
    {
     "data": {
      "text/plain": [
       "<tf.Tensor: shape=(2,), dtype=float32, numpy=array([2., 3.], dtype=float32)>"
      ]
     },
     "execution_count": 20,
     "metadata": {},
     "output_type": "execute_result"
    }
   ],
   "source": [
    "import tensorflow as tf\n",
    "\n",
    "print(f\"TensorFlow version: {tf.__version__}\")\n",
    "print()\n",
    "\n",
    "coefficient_matrix = tf.constant([\n",
    "    [2, 3],\n",
    "    [1, -1]\n",
    "], dtype=tf.float32)\n",
    "print(f\"coefficient_matrix:\\n{coefficient_matrix}\")\n",
    "\n",
    "constant_vector = tf.constant([13, -1], dtype=tf.float32)\n",
    "print(f\"constant_vector: {constant_vector}\")\n",
    "constant_vector = tf.reshape(constant_vector, (-1, 1))  # Reshape to a column vector\n",
    "\n",
    "result = tf.linalg.solve(coefficient_matrix, constant_vector)\n",
    "result = tf.squeeze(result)\n",
    "\n",
    "print(type(result))\n",
    "result"
   ]
  },
  {
   "cell_type": "markdown",
   "id": "5127f295-08c5-43c8-ab32-ec72838434e5",
   "metadata": {},
   "source": [
    "Page 9. Exercises. 1.17. b.\n",
    "$$\n",
    "\\begin{gather}\n",
    "x-z=0 \\\\\n",
    "3x+y=1 \\\\\n",
    "-x+y+z=4\n",
    "\\end{gather}\n",
    "$$"
   ]
  },
  {
   "cell_type": "code",
   "execution_count": 37,
   "id": "28b31a60-d783-47a4-9672-5e50f046d6af",
   "metadata": {},
   "outputs": [
    {
     "name": "stdout",
     "output_type": "stream",
     "text": [
      "coefficient_matrix:\n",
      "[[ 1  0 -1]\n",
      " [ 3  1  0]\n",
      " [-1  1  1]]\n",
      "constant_vector: [0 1 4]\n",
      "<class 'numpy.ndarray'>\n",
      "result: [-1.  4. -1.]\n"
     ]
    },
    {
     "data": {
      "image/png": "[encoded data removed]",
      "text/plain": [
       "<Figure size 600x200 with 1 Axes>"
      ]
     },
     "metadata": {},
     "output_type": "display_data"
    }
   ],
   "source": [
    "import numpy as np\n",
    "import matplotlib\n",
    "from matplotlib import pyplot as plt\n",
    "\n",
    "coefficient_matrix = np.array([\n",
    "    [1, 0, -1],\n",
    "    [3, 1, 0],\n",
    "    [-1, 1, 1]\n",
    "])\n",
    "print(f\"coefficient_matrix:\\n{coefficient_matrix}\")\n",
    "\n",
    "constant_vector = np.array([0, 1, 4])\n",
    "print(f\"constant_vector: {constant_vector}\")\n",
    "\n",
    "result = np.linalg.solve(coefficient_matrix, constant_vector)\n",
    "print(type(result))\n",
    "print(f\"result: {result}\")\n",
    "\n",
    "figure, axes = plt.subplots(figsize=(6, 2))\n",
    "axes: plt.Axes\n",
    "axes.plot(result, marker=\"o\", markersize=5)\n",
    "axes.set_xlabel(\"x\")\n",
    "axes.set_ylabel(\"y\")\n",
    "plt.show()"
   ]
  },
  {
   "cell_type": "code",
   "execution_count": 36,
   "id": "5fdf8440-9536-4976-986c-faf87db240cb",
   "metadata": {},
   "outputs": [
    {
     "name": "stdout",
     "output_type": "stream",
     "text": [
      "SciPy version: 1.13.1\n",
      "\n",
      "coefficient_matrix: [[1, 0, -1], [3, 1, 0], [-1, 1, 1]]\n",
      "constant_vector: [0, 1, 4]\n",
      "<class 'numpy.ndarray'>\n"
     ]
    },
    {
     "data": {
      "text/plain": [
       "array([-1.,  4., -1.])"
      ]
     },
     "execution_count": 36,
     "metadata": {},
     "output_type": "execute_result"
    }
   ],
   "source": [
    "import scipy\n",
    "\n",
    "print(f\"SciPy version: {scipy.__version__}\")\n",
    "print()\n",
    "\n",
    "coefficient_matrix = [\n",
    "    [1, 0, -1],\n",
    "    [3, 1, 0],\n",
    "    [-1, 1, 1]\n",
    "]\n",
    "print(f\"coefficient_matrix: {coefficient_matrix}\")\n",
    "constant_vector = [0, 1, 4]\n",
    "print(f\"constant_vector: {constant_vector}\")\n",
    "\n",
    "result = scipy.linalg.solve(coefficient_matrix, constant_vector)\n",
    "print(type(result))\n",
    "result"
   ]
  },
  {
   "cell_type": "code",
   "execution_count": 35,
   "id": "01663664-38cc-42a1-af4a-ee888d0a6bec",
   "metadata": {},
   "outputs": [
    {
     "name": "stdout",
     "output_type": "stream",
     "text": [
      "SymPy version: 1.12\n",
      "\n"
     ]
    },
    {
     "data": {
      "text/plain": [
       "{x: -1, y: 4, z: -1}"
      ]
     },
     "execution_count": 35,
     "metadata": {},
     "output_type": "execute_result"
    }
   ],
   "source": [
    "import sympy as sp\n",
    "from sympy.abc import x, y, z\n",
    "\n",
    "print(f\"SymPy version: {sp.__version__}\")\n",
    "print()\n",
    "\n",
    "equation1 = x - z\n",
    "equation2 = 3 * x + y - 1\n",
    "equation3 = -x + y + z - 4\n",
    "\n",
    "sp.solve([equation1, equation2, equation3], (x, y, z))"
   ]
  },
  {
   "cell_type": "code",
   "execution_count": 38,
   "id": "e5b63e6e-a25f-494c-99ec-7f26f001d26a",
   "metadata": {},
   "outputs": [
    {
     "name": "stdout",
     "output_type": "stream",
     "text": [
      "TensorFlow version: 2.16.2\n",
      "\n",
      "coefficient_matrix:\n",
      "[[ 1.  0. -1.]\n",
      " [ 3.  1.  0.]\n",
      " [-1.  1.  1.]]\n",
      "constant_vector: [0. 1. 4.]\n",
      "<class 'tensorflow.python.framework.ops.EagerTensor'>\n"
     ]
    },
    {
     "data": {
      "text/plain": [
       "<tf.Tensor: shape=(3,), dtype=float32, numpy=array([-1.,  4., -1.], dtype=float32)>"
      ]
     },
     "execution_count": 38,
     "metadata": {},
     "output_type": "execute_result"
    }
   ],
   "source": [
    "import tensorflow as tf\n",
    "\n",
    "print(f\"TensorFlow version: {tf.__version__}\")\n",
    "print()\n",
    "\n",
    "coefficient_matrix = tf.constant([\n",
    "    [1, 0, -1],\n",
    "    [3, 1, 0],\n",
    "    [-1, 1, 1]\n",
    "], dtype=tf.float32)\n",
    "print(f\"coefficient_matrix:\\n{coefficient_matrix}\")\n",
    "\n",
    "constant_vector = tf.constant([0, 1, 4], dtype=tf.float32)\n",
    "print(f\"constant_vector: {constant_vector}\")\n",
    "constant_vector = tf.reshape(constant_vector, (-1, 1))  # Reshape to a column vector\n",
    "\n",
    "result = tf.linalg.solve(coefficient_matrix, constant_vector)\n",
    "result = tf.squeeze(result)\n",
    "\n",
    "print(type(result))\n",
    "result"
   ]
  }
 ],
 "metadata": {
  "kernelspec": {
   "display_name": "Python 3 (ipykernel)",
   "language": "python",
   "name": "python3"
  },
  "language_info": {
   "codemirror_mode": {
    "name": "ipython",
    "version": 3
   },
   "file_extension": ".py",
   "mimetype": "text/x-python",
   "name": "python",
   "nbconvert_exporter": "python",
   "pygments_lexer": "ipython3",
   "version": "3.12.4"
  }
 },
 "nbformat": 4,
 "nbformat_minor": 5
}
