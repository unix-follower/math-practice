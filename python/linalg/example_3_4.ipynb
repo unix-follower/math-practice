{
 "cells": [
  {
   "cell_type": "markdown",
   "id": "8340ea73-b011-4465-8865-72c9cc59b6fc",
   "metadata": {},
   "source": [
    "References\n",
    "----------\n",
    "[1] Jim Hefferon, Mathematics and Statistics,\n",
    "    Saint Michael's College Colchester, Vermont USA 05439\n",
    "    2020-Apr-26.\n",
    "    \n",
    "[2] https://hefferon.net/linearalgebra/\n",
    "\n",
    "[3] Page 25. 3.4 Example.\n",
    "$$\n",
    "\\begin{gather}\n",
    "3x+2y+z=0 \\\\\n",
    "6x+4y=0 \\\\\n",
    "y+z=0\n",
    "\\end{gather}\n",
    "$$"
   ]
  },
  {
   "cell_type": "code",
   "execution_count": null,
   "id": "d395faec-177d-46ab-9e23-344790a33be1",
   "metadata": {},
   "outputs": [
    {
     "name": "stdout",
     "output_type": "stream",
     "text": [
      "SymPy version: 1.12\n",
      "<class 'dict'>\n",
      "{x: 0, y: 0, z: 0}\n"
     ]
    }
   ],
   "source": [
    "import sympy as sp\n",
    "\n",
    "print(f\"SymPy version: {sp.__version__}\")\n",
    "\n",
    "x, y, z = sp.symbols(\"x, y, z\")\n",
    "\n",
    "equation1 = 3 * x + 2 * y + z\n",
    "equation2 = 6 * x + 4 * y\n",
    "equation3 = y + z\n",
    "\n",
    "result: dict = sp.solve([equation1, equation2, equation3], (x, y, z))\n",
    "print(type(result))\n",
    "print(result)\n",
    "\n",
    "assert 0 == result[x], f\"The actual value: {result[x]}\"\n",
    "assert 0 == result[y], f\"The actual value: {result[y]}\"\n",
    "assert 0 == result[z], f\"The actual value: {result[z]}\""
   ]
  }
 ],
 "metadata": {
  "kernelspec": {
   "display_name": "Python 3 (ipykernel)",
   "language": "python",
   "name": "python3"
  },
  "language_info": {
   "codemirror_mode": {
    "name": "ipython",
    "version": 3
   },
   "file_extension": ".py",
   "mimetype": "text/x-python",
   "name": "python",
   "nbconvert_exporter": "python",
   "pygments_lexer": "ipython3",
   "version": "3.12.4"
  }
 },
 "nbformat": 4,
 "nbformat_minor": 5
}
