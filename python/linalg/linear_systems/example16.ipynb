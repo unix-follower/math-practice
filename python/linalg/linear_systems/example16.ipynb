{
 "cells": [
  {
   "cell_type": "markdown",
   "id": "8340ea73-b011-4465-8865-72c9cc59b6fc",
   "metadata": {},
   "source": [
    "References\n",
    "----------\n",
    "[1] Jim Hefferon, Mathematics and Statistics,\n",
    "    Saint Michael's College Colchester, Vermont USA 05439\n",
    "    2020-Apr-26.\n",
    "    \n",
    "[2] https://hefferon.net/linearalgebra/\n",
    "\n",
    "[3] Page 18. 2.12 Example.\n",
    "$$\n",
    "\\begin{equation}\n",
    "    y =\n",
    "    \\begin{pmatrix}\n",
    "    2 \\\\ 3 \\\\ 1\n",
    "    \\end{pmatrix}\n",
    "    +\n",
    "    \\begin{pmatrix}\n",
    "    3 \\\\ -1 \\\\ 4\n",
    "    \\end{pmatrix}\n",
    "    =\n",
    "    \\begin{pmatrix}\n",
    "    2+3 \\\\ 3-1 \\\\ 1+4\n",
    "    \\end{pmatrix}\n",
    "    =\n",
    "    \\begin{pmatrix}\n",
    "    5 \\\\ 2 \\\\ 5\n",
    "    \\end{pmatrix}\n",
    "\\end{equation}\n",
    "$$\n",
    "$$\n",
    "\\begin{equation}\n",
    "    7 *\n",
    "    \\begin{pmatrix}\n",
    "    1 \\\\ 4 \\\\ -1 \\\\ -3\n",
    "    \\end{pmatrix}\n",
    "    =\n",
    "    \\begin{pmatrix}\n",
    "    7 \\\\ 28 \\\\ -7 \\\\ -21\n",
    "    \\end{pmatrix}\n",
    "\\end{equation}\n",
    "$$"
   ]
  },
  {
   "cell_type": "code",
   "execution_count": 2,
   "id": "d395faec-177d-46ab-9e23-344790a33be1",
   "metadata": {},
   "outputs": [
    {
     "name": "stdout",
     "output_type": "stream",
     "text": [
      "SymPy version: 1.12\n",
      "<class 'sympy.matrices.dense.MutableDenseMatrix'>\n",
      "Matrix([[5], [2], [5]])\n"
     ]
    }
   ],
   "source": [
    "import sympy as sp\n",
    "from sympy.matrices import Matrix\n",
    "\n",
    "print(f\"SymPy version: {sp.__version__}\")\n",
    "\n",
    "left_vector = Matrix([2, 3, 1])\n",
    "right_vector = Matrix([3, -1, 4])\n",
    "\n",
    "result: Matrix = left_vector + right_vector\n",
    "print(type(result))\n",
    "print(result)\n",
    "\n",
    "assert 5 == result[0]\n",
    "assert 2 == result[1]\n",
    "assert 5 == result[2]"
   ]
  },
  {
   "cell_type": "code",
   "execution_count": 3,
   "id": "470bb9d4-d535-49e3-b561-eb8aeeeab0d3",
   "metadata": {},
   "outputs": [
    {
     "name": "stdout",
     "output_type": "stream",
     "text": [
      "<class 'sympy.matrices.dense.MutableDenseMatrix'>\n",
      "Matrix([[7], [28], [-7], [-21]])\n"
     ]
    }
   ],
   "source": [
    "from sympy.matrices import Matrix\n",
    "\n",
    "vector = Matrix([1, 4, -1, -3])\n",
    "\n",
    "result: Matrix = 7 * vector\n",
    "print(type(result))\n",
    "print(result)\n",
    "\n",
    "assert 7 == result[0]\n",
    "assert 28 == result[1]\n",
    "assert -7 == result[2]\n",
    "assert -21 == result[3]"
   ]
  }
 ],
 "metadata": {
  "kernelspec": {
   "display_name": "Python 3 (ipykernel)",
   "language": "python",
   "name": "python3"
  },
  "language_info": {
   "codemirror_mode": {
    "name": "ipython",
    "version": 3
   },
   "file_extension": ".py",
   "mimetype": "text/x-python",
   "name": "python",
   "nbconvert_exporter": "python",
   "pygments_lexer": "ipython3",
   "version": "3.12.4"
  }
 },
 "nbformat": 4,
 "nbformat_minor": 5
}
