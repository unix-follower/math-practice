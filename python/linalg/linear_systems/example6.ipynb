{
 "cells": [
  {
   "cell_type": "markdown",
   "id": "8340ea73-b011-4465-8865-72c9cc59b6fc",
   "metadata": {},
   "source": [
    "References\n",
    "----------\n",
    "[1] Jim Hefferon, Mathematics and Statistics,\n",
    "    Saint Michael's College Colchester, Vermont USA 05439\n",
    "    2020-Apr-26.\n",
    "    \n",
    "[2] https://hefferon.net/linearalgebra/\n",
    "\n",
    "[3] Page 6. 1.11 Example.\n",
    "$$\n",
    "\\begin{gather*}\n",
    "x-y=0\\\\\n",
    "2x-2y+z+2w=4\\\\\n",
    "y+w=0\\\\\n",
    "2z+w=5\n",
    "\\end{gather*}\n",
    "$$"
   ]
  },
  {
   "cell_type": "code",
   "execution_count": 4,
   "id": "d395faec-177d-46ab-9e23-344790a33be1",
   "metadata": {},
   "outputs": [
    {
     "name": "stdout",
     "output_type": "stream",
     "text": [
      "SymPy version: 1.12\n",
      "<class 'dict'>\n",
      "{w: 1, x: -1, y: -1, z: 2}\n"
     ]
    }
   ],
   "source": [
    "import sympy as sp\n",
    "\n",
    "print(f\"SymPy version: {sp.__version__}\")\n",
    "\n",
    "x, y, z, w = sp.symbols(\"x, y, z, w\")\n",
    "\n",
    "equation1 = x - y\n",
    "equation2 = 2 * x - 2 * y + z + 2 * w - 4\n",
    "equation3 = y + w\n",
    "equation4 = 2 * z + w - 5\n",
    "\n",
    "result: dict = sp.solve([equation1, equation2, equation3, equation4], (x, y, z, w))\n",
    "print(type(result))\n",
    "print(result)\n",
    "\n",
    "assert -1 == result[x], f\"Actual value {result[x]}\"\n",
    "assert -1 == result[y], f\"Actual value {result[y]}\"\n",
    "assert 2 == result[z], f\"Actual value {result[z]}\"\n",
    "assert 1 == result[w], f\"Actual value {result[w]}\""
   ]
  }
 ],
 "metadata": {
  "kernelspec": {
   "display_name": "Python 3 (ipykernel)",
   "language": "python",
   "name": "python3"
  },
  "language_info": {
   "codemirror_mode": {
    "name": "ipython",
    "version": 3
   },
   "file_extension": ".py",
   "mimetype": "text/x-python",
   "name": "python",
   "nbconvert_exporter": "python",
   "pygments_lexer": "ipython3",
   "version": "3.12.4"
  }
 },
 "nbformat": 4,
 "nbformat_minor": 5
}
