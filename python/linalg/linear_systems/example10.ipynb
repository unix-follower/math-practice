{
 "cells": [
  {
   "cell_type": "markdown",
   "id": "8340ea73-b011-4465-8865-72c9cc59b6fc",
   "metadata": {},
   "source": [
    "References\n",
    "----------\n",
    "[1] Jim Hefferon, Mathematics and Statistics,\n",
    "    Saint Michael's College Colchester, Vermont USA 05439\n",
    "    2020-Apr-26.\n",
    "    \n",
    "[2] https://hefferon.net/linearalgebra/\n",
    "\n",
    "[3] Page 8. 1.15 Example.\n",
    "$$\n",
    "\\begin{gather*}\n",
    "x+y=4\\\\\n",
    "2x+2y=8\n",
    "\\end{gather*}\n",
    "$$"
   ]
  },
  {
   "cell_type": "code",
   "execution_count": 10,
   "id": "d395faec-177d-46ab-9e23-344790a33be1",
   "metadata": {},
   "outputs": [
    {
     "name": "stdout",
     "output_type": "stream",
     "text": [
      "SymPy version: 1.12\n",
      "<class 'dict'>\n",
      "{x: 4 - y}\n"
     ]
    }
   ],
   "source": [
    "import sympy as sp\n",
    "\n",
    "print(f\"SymPy version: {sp.__version__}\")\n",
    "\n",
    "x, y = sp.symbols(\"x, y\")\n",
    "\n",
    "equation1 = x + y - 4\n",
    "equation2 = 2 * x + 2 * y - 8\n",
    "\n",
    "result: dict = sp.solve([equation1, equation2], (x, y))\n",
    "print(type(result))\n",
    "print(result)\n",
    "\n",
    "assert 4 - y == result[x], f\"The solution set is infinite. Actual value {result[x]}\""
   ]
  }
 ],
 "metadata": {
  "kernelspec": {
   "display_name": "Python 3 (ipykernel)",
   "language": "python",
   "name": "python3"
  },
  "language_info": {
   "codemirror_mode": {
    "name": "ipython",
    "version": 3
   },
   "file_extension": ".py",
   "mimetype": "text/x-python",
   "name": "python",
   "nbconvert_exporter": "python",
   "pygments_lexer": "ipython3",
   "version": "3.12.4"
  }
 },
 "nbformat": 4,
 "nbformat_minor": 5
}
