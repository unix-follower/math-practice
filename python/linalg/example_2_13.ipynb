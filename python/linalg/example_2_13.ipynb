{
 "cells": [
  {
   "cell_type": "markdown",
   "id": "8340ea73-b011-4465-8865-72c9cc59b6fc",
   "metadata": {},
   "source": [
    "References\n",
    "----------\n",
    "[1] Jim Hefferon, Mathematics and Statistics,\n",
    "    Saint Michael's College Colchester, Vermont USA 05439\n",
    "    2020-Apr-26.\n",
    "    \n",
    "[2] https://hefferon.net/linearalgebra/\n",
    "\n",
    "[3] Page 18. 2.13 Example.\n",
    "$$\n",
    "\\begin{gather}\n",
    "2x+y-w=4 \\\\\n",
    "y+w+u=4 \\\\\n",
    "x-z+2w=0\n",
    "\\end{gather}\n",
    "$$\n",
    "$$\n",
    "\\begin{equation}\n",
    "    \\left(\\begin{array}{ccccc|c}\n",
    "    2 & 1 & 0 & -1 & 0 & 4 \\\\\n",
    "    0 & 1 & 0 & 1 & 1 & 4 \\\\\n",
    "    1 & 0 & -1 & 2 & 0 & 0\n",
    "    \\end{array}\\right)\n",
    "\\end{equation}\n",
    "$$"
   ]
  },
  {
   "cell_type": "code",
   "execution_count": null,
   "id": "d395faec-177d-46ab-9e23-344790a33be1",
   "metadata": {},
   "outputs": [
    {
     "name": "stdout",
     "output_type": "stream",
     "text": [
      "SymPy version: 1.12\n",
      "<class 'dict'>\n",
      "{x: u/2 + w, y: -u - w + 4, z: u/2 + 3*w}\n"
     ]
    }
   ],
   "source": [
    "import sympy as sp\n",
    "\n",
    "print(f\"SymPy version: {sp.__version__}\")\n",
    "\n",
    "x, y, z, w, u = sp.symbols(\"x, y, z, w, u\")\n",
    "\n",
    "equation1 = 2 * x + y - w - 4\n",
    "equation2 = y + w + u - 4\n",
    "equation3 = x - z + 2 * w\n",
    "\n",
    "result: dict = sp.solve([equation1, equation2, equation3], (x, y, z, w, u))\n",
    "print(type(result))\n",
    "print(result)\n",
    "\n",
    "error_msg = \"There are many solutions\"\n",
    "assert \"u/2 + w\" == str(result[x]), error_msg\n",
    "assert \"-u - w + 4\" == str(result[y]), error_msg\n",
    "assert \"u/2 + 3*w\" == str(result[z]), error_msg"
   ]
  },
  {
   "cell_type": "code",
   "execution_count": null,
   "id": "8d817ccd-ffad-425b-be40-5d3837e15319",
   "metadata": {},
   "outputs": [
    {
     "name": "stdout",
     "output_type": "stream",
     "text": [
      "<class 'dict'>\n",
      "{x: u/2 + w, y: -u - w + 4, z: u/2 + 3*w}\n"
     ]
    }
   ],
   "source": [
    "import sympy as sp\n",
    "from sympy.matrices import Matrix\n",
    "\n",
    "coefficient_matrix = Matrix([[2, 1, 0, -1, 0], [0, 1, 0, 1, 1], [1, 0, -1, 2, 0]])\n",
    "constant_vector = Matrix([4, 4, 0])\n",
    "augmented_matrix = coefficient_matrix.row_join(constant_vector)\n",
    "\n",
    "variables = sp.symbols(\"x, y, z, w, u\")\n",
    "result: dict = sp.solve_linear_system(augmented_matrix, *variables)\n",
    "print(type(result))\n",
    "print(result)\n",
    "\n",
    "x, y, z, _, _, = variables\n",
    "error_msg = \"There are many solutions\"\n",
    "assert \"u/2 + w\" == str(result[x]), error_msg\n",
    "assert \"-u - w + 4\" == str(result[y]), error_msg\n",
    "assert \"u/2 + 3*w\" == str(result[z]), error_msg"
   ]
  }
 ],
 "metadata": {
  "kernelspec": {
   "display_name": "Python 3 (ipykernel)",
   "language": "python",
   "name": "python3"
  },
  "language_info": {
   "codemirror_mode": {
    "name": "ipython",
    "version": 3
   },
   "file_extension": ".py",
   "mimetype": "text/x-python",
   "name": "python",
   "nbconvert_exporter": "python",
   "pygments_lexer": "ipython3",
   "version": "3.12.4"
  }
 },
 "nbformat": 4,
 "nbformat_minor": 5
}
