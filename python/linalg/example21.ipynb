{
 "cells": [
  {
   "cell_type": "markdown",
   "id": "8340ea73-b011-4465-8865-72c9cc59b6fc",
   "metadata": {},
   "source": [
    "References\n",
    "----------\n",
    "[1] Jim Hefferon, Mathematics and Statistics,\n",
    "    Saint Michael's College Colchester, Vermont USA 05439\n",
    "    2020-Apr-26.\n",
    "    \n",
    "[2] https://hefferon.net/linearalgebra/\n",
    "\n",
    "[3] Page 25. 3.5 Example.\n",
    "$$\n",
    "\\begin{gather}\n",
    "7x-7z=0 \\\\\n",
    "8x+y-5z-2w=0 \\\\\n",
    "y-3z=0 \\\\\n",
    "3y-6z-w=0\n",
    "\\end{gather}\n",
    "$$"
   ]
  },
  {
   "cell_type": "code",
   "execution_count": null,
   "id": "d395faec-177d-46ab-9e23-344790a33be1",
   "metadata": {},
   "outputs": [
    {
     "name": "stdout",
     "output_type": "stream",
     "text": [
      "SymPy version: 1.12\n",
      "<class 'dict'>\n",
      "{x: w/3, y: w, z: w/3}\n"
     ]
    }
   ],
   "source": [
    "import sympy as sp\n",
    "\n",
    "print(f\"SymPy version: {sp.__version__}\")\n",
    "\n",
    "x, y, z, w = sp.symbols(\"x, y, z, w\")\n",
    "\n",
    "equation1 = 7 * x - 7 * z\n",
    "equation2 = 8 * x + y - 5 * z - 2 * w\n",
    "equation3 = y - 3 * z\n",
    "equation4 = 3 * y - 6 * z - w\n",
    "\n",
    "result: dict = sp.solve([equation1, equation2, equation3, equation4], (x, y, z, w))\n",
    "print(type(result))\n",
    "print(result)\n",
    "\n",
    "assert w / 3 == result[x], f\"The actual value: {result[x]}\"\n",
    "assert w == result[y], f\"The actual value: {result[y]}\"\n",
    "assert w / 3 == result[z], f\"The actual value: {result[z]}\""
   ]
  }
 ],
 "metadata": {
  "kernelspec": {
   "display_name": "Python 3 (ipykernel)",
   "language": "python",
   "name": "python3"
  },
  "language_info": {
   "codemirror_mode": {
    "name": "ipython",
    "version": 3
   },
   "file_extension": ".py",
   "mimetype": "text/x-python",
   "name": "python",
   "nbconvert_exporter": "python",
   "pygments_lexer": "ipython3",
   "version": "3.12.4"
  }
 },
 "nbformat": 4,
 "nbformat_minor": 5
}
