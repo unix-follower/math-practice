{
 "cells": [
  {
   "cell_type": "markdown",
   "id": "da5869aa-e581-4505-ab7a-e1dbaecb3677",
   "metadata": {},
   "source": [
    "References\n",
    "----------\n",
    "[1] https://openstax.org/books/calculus-volume-1/pages/1-1-review-of-functions\n",
    "    \n",
    "[2] Example 1.1\n",
    "$$\n",
    "\\begin{equation}\n",
    "    𝑓(𝑥)=3𝑥^2+2𝑥−1\n",
    "\\end{equation}\n",
    "$$"
   ]
  },
  {
   "cell_type": "code",
   "execution_count": 28,
   "id": "188b2241-1cae-4459-8a67-aecbf94b7063",
   "metadata": {},
   "outputs": [
    {
     "name": "stdout",
     "output_type": "stream",
     "text": [
      "SymPy version: 1.12\n",
      "Lambda(x, 3*x**2 + 2*x - 1)\n"
     ]
    }
   ],
   "source": [
    "import sympy as sp\n",
    "from sympy import Lambda\n",
    "from sympy.abc import x, a\n",
    "\n",
    "print(f\"SymPy version: {sp.__version__}\")\n",
    "\n",
    "h = sp.symbols(\"h\")\n",
    "\n",
    "f = Lambda(x, 3 * x**2 + 2 * x - 1)\n",
    "print(f)\n",
    "\n",
    "result = f(-2)\n",
    "assert 7 == result, f\"Actual value {result}\"\n",
    "\n",
    "result = f(sp.sqrt(2))\n",
    "assert \"2*sqrt(2) + 5\" == str(result), f\"The actual value: {result}\"\n",
    "\n",
    "result = f(a + h)\n",
    "assert \"2*a + 2*h + 3*(a + h)**2 - 1\" == str(result), f\"The actual value: {result}\""
   ]
  }
 ],
 "metadata": {
  "kernelspec": {
   "display_name": "Python 3 (ipykernel)",
   "language": "python",
   "name": "python3"
  },
  "language_info": {
   "codemirror_mode": {
    "name": "ipython",
    "version": 3
   },
   "file_extension": ".py",
   "mimetype": "text/x-python",
   "name": "python",
   "nbconvert_exporter": "python",
   "pygments_lexer": "ipython3",
   "version": "3.12.4"
  }
 },
 "nbformat": 4,
 "nbformat_minor": 5
}
