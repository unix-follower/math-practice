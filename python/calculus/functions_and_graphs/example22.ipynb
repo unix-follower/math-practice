{
 "cells": [
  {
   "cell_type": "markdown",
   "id": "da5869aa-e581-4505-ab7a-e1dbaecb3677",
   "metadata": {},
   "source": [
    "References\n",
    "----------\n",
    "[1] https://openstax.org/books/calculus-volume-1/pages/1-3-trigonometric-functions\n",
    "    \n",
    "[2] Checkpoint 1.19"
   ]
  },
  {
   "cell_type": "code",
   "execution_count": 66,
   "id": "38013b79-2773-46c2-9b86-b0af80f5e587",
   "metadata": {},
   "outputs": [
    {
     "name": "stdout",
     "output_type": "stream",
     "text": [
      "NumPy version: 1.26.4\n",
      "Matplotlib version: 3.8.4\n",
      "\n",
      "1.0471975511965976\n",
      "10.000000000000002\n"
     ]
    }
   ],
   "source": [
    "import numpy as np\n",
    "import matplotlib\n",
    "from matplotlib import pyplot as plt\n",
    "\n",
    "print(f\"NumPy version: {np.__version__}\")\n",
    "print(f\"Matplotlib version: {matplotlib.__version__}\")\n",
    "print()\n",
    "\n",
    "radian10 = np.deg2rad(60)\n",
    "print(radian10)\n",
    "distance = np.cos(radian10) * 20\n",
    "print(distance)"
   ]
  }
 ],
 "metadata": {
  "kernelspec": {
   "display_name": "Python 3 (ipykernel)",
   "language": "python",
   "name": "python3"
  },
  "language_info": {
   "codemirror_mode": {
    "name": "ipython",
    "version": 3
   },
   "file_extension": ".py",
   "mimetype": "text/x-python",
   "name": "python",
   "nbconvert_exporter": "python",
   "pygments_lexer": "ipython3",
   "version": "3.12.4"
  }
 },
 "nbformat": 4,
 "nbformat_minor": 5
}
