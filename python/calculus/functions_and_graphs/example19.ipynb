{
 "cells": [
  {
   "cell_type": "markdown",
   "id": "da5869aa-e581-4505-ab7a-e1dbaecb3677",
   "metadata": {},
   "source": [
    "References\n",
    "----------\n",
    "[1] https://openstax.org/books/calculus-volume-1/pages/1-2-basic-classes-of-functions\n",
    "    \n",
    "[2] Checkpoint 1.13\n",
    "$$\n",
    "\\begin{equation}\n",
    "    f(x)=\\frac{x}{2}\n",
    "\\end{equation}\n",
    "$$"
   ]
  },
  {
   "cell_type": "code",
   "execution_count": 7,
   "id": "188b2241-1cae-4459-8a67-aecbf94b7063",
   "metadata": {},
   "outputs": [
    {
     "name": "stdout",
     "output_type": "stream",
     "text": [
      "SymPy version: 1.12\n",
      "NumPy version: 1.26.4\n",
      "Matplotlib version: 3.8.4\n",
      "\n",
      "Lambda(x, 2/x)\n",
      "x: [-5 -4 -3 -2 -1  0  1  2  3  4  5]\n",
      "y: [-2/5, -1/2, -2/3, -1, -2, inf, 2, 1, 2/3, 1/2, 2/5]\n"
     ]
    },
    {
     "data": {
      "image/png": "[encoded data removed]",
      "text/plain": [
       "<Figure size 300x200 with 1 Axes>"
      ]
     },
     "metadata": {},
     "output_type": "display_data"
    }
   ],
   "source": [
    "import sympy as sp\n",
    "from sympy import Lambda\n",
    "from sympy.abc import x\n",
    "import numpy as np\n",
    "import matplotlib\n",
    "from matplotlib import pyplot as plt\n",
    "\n",
    "print(f\"SymPy version: {sp.__version__}\")\n",
    "print(f\"NumPy version: {np.__version__}\")\n",
    "print(f\"Matplotlib version: {matplotlib.__version__}\")\n",
    "print()\n",
    "\n",
    "f = Lambda(x, 2/x)\n",
    "print(f)\n",
    "\n",
    "x_values = np.arange(-5, 6)\n",
    "print(\"x:\", x_values)\n",
    "\n",
    "def map_value(x):\n",
    "    y = f(x)\n",
    "    if \"zoo\" == str(y):\n",
    "        return np.inf\n",
    "    return y\n",
    "    \n",
    "y_values = list(map(map_value, x_values))\n",
    "print(\"y:\", y_values)\n",
    "\n",
    "figure, axes = plt.subplots(figsize=(3, 2))\n",
    "axes.set_xlabel(\"x\")\n",
    "axes.set_ylabel(\"y\")\n",
    "axes.set_title(f.expr)\n",
    "axes.grid()\n",
    "axes.plot(x_values, y_values, marker=\"o\", markersize=5)\n",
    "\n",
    "plt.show()"
   ]
  }
 ],
 "metadata": {
  "kernelspec": {
   "display_name": "Python 3 (ipykernel)",
   "language": "python",
   "name": "python3"
  },
  "language_info": {
   "codemirror_mode": {
    "name": "ipython",
    "version": 3
   },
   "file_extension": ".py",
   "mimetype": "text/x-python",
   "name": "python",
   "nbconvert_exporter": "python",
   "pygments_lexer": "ipython3",
   "version": "3.12.4"
  }
 },
 "nbformat": 4,
 "nbformat_minor": 5
}
