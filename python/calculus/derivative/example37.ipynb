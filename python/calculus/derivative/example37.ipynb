{
 "cells": [
  {
   "cell_type": "markdown",
   "id": "72789747-8ab8-4c4e-85d7-365784b7b7b0",
   "metadata": {},
   "source": [
    "References\n",
    "----------\n",
    "[1] https://openstax.org/books/calculus-volume-1/pages/3-9-derivatives-of-exponential-and-logarithmic-functions\n",
    "    \n",
    "[2] Checkpoint 3.50\n",
    "$$\n",
    "\\begin{equation}\n",
    "h(x)=xe^{2x}\n",
    "\\end{equation}\n",
    "$$"
   ]
  },
  {
   "cell_type": "code",
   "execution_count": 7,
   "id": "188b2241-1cae-4459-8a67-aecbf94b7063",
   "metadata": {},
   "outputs": [
    {
     "name": "stdout",
     "output_type": "stream",
     "text": [
      "SymPy version: 1.13.2\n",
      "NumPy version: 1.26.4\n",
      "Matplotlib version: 3.9.2\n",
      "\n",
      "Lambda(x, x*exp(2*x))\n",
      "x:[ 0.          1.22222222  2.44444444  3.66666667  4.88888889  6.11111111\n",
      "  7.33333333  8.55555556  9.77777778 11.        ]\n",
      "y:[0.0, 14.0850667430329, 324.636717527496, 5611.74115943525, 86227.3623002951, 1242120.83837250, 17177257.5493635, 230945418.179367, 3041655549.24533, 39434041307.4475]\n",
      "f′(x)=2*x*exp(2*x) + exp(2*x)\n",
      "f′(2)=272.990750165721\n",
      "y_tangent:[-436.785200265154 -103.129838951495 230.525522362165 564.180883675824\n",
      " 897.836244989483 1231.49160630314 1565.14696761680 1898.80232893046\n",
      " 2232.45769024412 2566.11305155778]\n"
     ]
    },
    {
     "data": {
      "image/png": "[encoded data removed]",
      "text/plain": [
       "<Figure size 600x300 with 1 Axes>"
      ]
     },
     "metadata": {},
     "output_type": "display_data"
    }
   ],
   "source": [
    "import sympy as sp\n",
    "from sympy.abc import x\n",
    "import numpy as np\n",
    "import matplotlib\n",
    "from matplotlib import pyplot as plt\n",
    "\n",
    "print(f\"SymPy version: {sp.__version__}\")\n",
    "print(f\"NumPy version: {np.__version__}\")\n",
    "print(f\"Matplotlib version: {matplotlib.__version__}\")\n",
    "print()\n",
    "\n",
    "f = sp.Lambda(x, x * sp.exp(2 * x))\n",
    "print(f)\n",
    "\n",
    "x_values = np.linspace(0, 11, 10)\n",
    "print(f\"x:{x_values}\")\n",
    "\n",
    "\n",
    "def map_x_values(x_value):\n",
    "    result = f(x_value)\n",
    "    if result == sp.zoo:\n",
    "        return np.inf\n",
    "    return result\n",
    "\n",
    "\n",
    "y_values = list(map(map_x_values, x_values))\n",
    "print(f\"y:{y_values}\")\n",
    "\n",
    "f_prime = sp.diff(f(x), x)\n",
    "print(f\"f′(x)={f_prime}\")\n",
    "\n",
    "x_at = 2\n",
    "\n",
    "\n",
    "def calculate_slope(derivative_fn, derivative_order=1):\n",
    "    slope = derivative_fn.subs(x, x_at).evalf()\n",
    "    apostrophe = \"′\" * derivative_order\n",
    "    print(f\"f{apostrophe}({x_at})={slope}\")\n",
    "    y_tangent = slope * (x_values - x_at) + f(x_at).evalf()\n",
    "    print(f\"y_tangent:{y_tangent}\")\n",
    "    return slope, y_tangent\n",
    "\n",
    "\n",
    "slope, y_tangent = calculate_slope(f_prime)\n",
    "\n",
    "figure, axes = plt.subplots(figsize=(6, 3))\n",
    "axes.set_xlabel(\"x\")\n",
    "axes.set_ylabel(\"y\")\n",
    "axes.set_title(f.expr)\n",
    "axes.grid()\n",
    "axes.plot(x_values, y_values, marker=\"o\", markersize=5, label=\"f′\")\n",
    "axes.plot(x_values, y_tangent, marker=\"x\", markersize=5, label=\"f′′\")\n",
    "plt.show()"
   ]
  }
 ],
 "metadata": {
  "kernelspec": {
   "display_name": "Python 3 (ipykernel)",
   "language": "python",
   "name": "python3"
  },
  "language_info": {
   "codemirror_mode": {
    "name": "ipython",
    "version": 3
   },
   "file_extension": ".py",
   "mimetype": "text/x-python",
   "name": "python",
   "nbconvert_exporter": "python",
   "pygments_lexer": "ipython3",
   "version": "3.12.2"
  }
 },
 "nbformat": 4,
 "nbformat_minor": 5
}
