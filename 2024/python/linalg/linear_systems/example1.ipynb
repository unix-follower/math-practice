{
 "cells": [
  {
   "cell_type": "markdown",
   "id": "74ffa1b5-2b06-4a56-9122-4ec47d18db91",
   "metadata": {},
   "source": [
    "References\n",
    "----------\n",
    "[1] Jim Hefferon, Mathematics and Statistics,\n",
    "    Saint Michael's College Colchester, Vermont USA 05439\n",
    "    2020-Apr-26.\n",
    "    \n",
    "[2] https://hefferon.net/linearalgebra/\n",
    "\n",
    "[3] Page 3. 1.3 Example.\n",
    ">3 * x1 + 2 * x2 = 7\n",
    ">\n",
    ">-x1 + x2 = 6"
   ]
  },
  {
   "cell_type": "code",
   "execution_count": 13,
   "id": "d7658d02-652b-4da9-ac9d-8a1dbf5bf515",
   "metadata": {},
   "outputs": [
    {
     "name": "stdout",
     "output_type": "stream",
     "text": [
      "coefficient_matrix shape=(2, 2) ndim=2\n",
      "constant_vector shape=(2,) ndim=1\n",
      "<class 'numpy.ndarray'>\n",
      "result shape=(2,) ndim=1\n",
      "[-1.  5.]\n"
     ]
    }
   ],
   "source": [
    "import numpy as np\n",
    "\n",
    "coefficient_matrix = np.array([\n",
    "    [3, 2],\n",
    "    [-1, 1],\n",
    "])\n",
    "print(f\"coefficient_matrix shape={coefficient_matrix.shape} ndim={coefficient_matrix.ndim}\")\n",
    "\n",
    "constant_vector = np.array([7, 6])\n",
    "print(f\"constant_vector shape={constant_vector.shape} ndim={constant_vector.ndim}\")\n",
    "\n",
    "result = np.linalg.solve(coefficient_matrix, constant_vector)\n",
    "print(type(result))\n",
    "print(f\"result shape={result.shape} ndim={result.ndim}\")\n",
    "print(result)\n",
    "x1, x2 = result\n",
    "assert -1 == x1\n",
    "assert 5 == x2"
   ]
  },
  {
   "cell_type": "code",
   "execution_count": 14,
   "id": "1a46d34d-1c1e-4880-9296-d77294fc379c",
   "metadata": {},
   "outputs": [
    {
     "name": "stdout",
     "output_type": "stream",
     "text": [
      "<class 'numpy.ndarray'>\n",
      "result shape=(2,) ndim=1\n",
      "[-1.  5.]\n"
     ]
    }
   ],
   "source": [
    "import scipy\n",
    "\n",
    "coefficient_matrix = [\n",
    "    [3, 2],\n",
    "    [-1, 1],\n",
    "]\n",
    "constant_vector = [7, 6]\n",
    "\n",
    "result = scipy.linalg.solve(coefficient_matrix, constant_vector)\n",
    "print(type(result))\n",
    "print(f\"result shape={result.shape} ndim={result.ndim}\")\n",
    "print(result)\n",
    "x1, x2 = result\n",
    "assert -1 == x1\n",
    "assert 5 == x2"
   ]
  },
  {
   "cell_type": "code",
   "execution_count": 16,
   "id": "553e25b1-88cf-49eb-ac1d-53a63855c330",
   "metadata": {},
   "outputs": [
    {
     "name": "stdout",
     "output_type": "stream",
     "text": [
      "<class 'mpmath.matrices.matrices.matrix'>\n",
      "result cols=1 rows=2\n",
      "[-1.0]\n",
      "[ 5.0]\n"
     ]
    }
   ],
   "source": [
    "import mpmath as mp\n",
    "\n",
    "coefficient_matrix = [\n",
    "    [3, 2],\n",
    "    [-1, 1],\n",
    "]\n",
    "constant_vector = [7, 6]\n",
    "\n",
    "result = mp.lu_solve(coefficient_matrix, constant_vector)\n",
    "print(type(result))\n",
    "print(f\"result cols={result.cols} rows={result.rows}\")\n",
    "print(result)\n",
    "x1, x2 = result\n",
    "assert -1 == x1\n",
    "assert 5 == x2"
   ]
  },
  {
   "cell_type": "code",
   "execution_count": 8,
   "id": "56f05eaf-f894-4ba1-852a-6f9917345f53",
   "metadata": {},
   "outputs": [
    {
     "data": {
      "text/plain": [
       "{x1: -1, x2: 5}"
      ]
     },
     "execution_count": 8,
     "metadata": {},
     "output_type": "execute_result"
    }
   ],
   "source": [
    "import sympy as sp\n",
    "\n",
    "x1, x2 = sp.symbols(\"x1, x2\")\n",
    "\n",
    "equation1 = 3 * x1 + 2 * x2 - 7\n",
    "equation2 = -x1 + x2 - 6\n",
    "\n",
    "sp.solve([equation1, equation2], (x1, x2))"
   ]
  },
  {
   "cell_type": "code",
   "execution_count": 21,
   "id": "8a975a92-03a2-40b2-8948-49c34dacd270",
   "metadata": {},
   "outputs": [
    {
     "name": "stdout",
     "output_type": "stream",
     "text": [
      "TensorFlow version: 2.16.2\n",
      "coefficient_matrix shape=(2, 2) ndim=2\n",
      "constant_vector shape=(2,) ndim=1\n",
      "constant_vector shape=(2, 1) ndim=2\n",
      "<class 'tensorflow.python.framework.ops.EagerTensor'>\n",
      "result shape=(2,) ndim=1\n",
      "tf.Tensor([-1.  5.], shape=(2,), dtype=float32)\n"
     ]
    }
   ],
   "source": [
    "import tensorflow as tf\n",
    "\n",
    "print(f\"TensorFlow version: {tf.__version__}\")\n",
    "\n",
    "coefficient_matrix = tf.constant([\n",
    "    [3, 2],\n",
    "    [-1, 1]\n",
    "], dtype=tf.float32)\n",
    "print(f\"coefficient_matrix shape={coefficient_matrix.shape} ndim={coefficient_matrix.ndim}\")\n",
    "\n",
    "constant_vector = tf.constant([7, 6], dtype=tf.float32)\n",
    "print(f\"constant_vector shape={constant_vector.shape} ndim={constant_vector.ndim}\")\n",
    "constant_vector = tf.reshape(constant_vector, (-1, 1))  # Reshape to a column vector\n",
    "print(f\"constant_vector shape={constant_vector.shape} ndim={constant_vector.ndim}\")\n",
    "\n",
    "result = tf.linalg.solve(coefficient_matrix, constant_vector)\n",
    "result = tf.squeeze(result)\n",
    "\n",
    "print(type(result))\n",
    "print(f\"result shape={result.shape} ndim={result.ndim}\")\n",
    "print(result)\n",
    "\n",
    "x1, x2 = result\n",
    "assert tf.math.equal(x1, -1)\n",
    "assert tf.math.equal(x2, 5)"
   ]
  }
 ],
 "metadata": {
  "kernelspec": {
   "display_name": "Python 3 (ipykernel)",
   "language": "python",
   "name": "python3"
  },
  "language_info": {
   "codemirror_mode": {
    "name": "ipython",
    "version": 3
   },
   "file_extension": ".py",
   "mimetype": "text/x-python",
   "name": "python",
   "nbconvert_exporter": "python",
   "pygments_lexer": "ipython3",
   "version": "3.12.4"
  }
 },
 "nbformat": 4,
 "nbformat_minor": 5
}
