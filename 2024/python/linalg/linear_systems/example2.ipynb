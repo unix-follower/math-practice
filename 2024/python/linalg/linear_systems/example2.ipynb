{
 "cells": [
  {
   "cell_type": "markdown",
   "id": "74ffa1b5-2b06-4a56-9122-4ec47d18db91",
   "metadata": {},
   "source": [
    "References\n",
    "----------\n",
    "[1] Jim Hefferon, Mathematics and Statistics,\n",
    "    Saint Michael's College Colchester, Vermont USA 05439\n",
    "    2020-Apr-26.\n",
    "    \n",
    "[2] https://hefferon.net/linearalgebra/\n",
    "\n",
    "[3] Page 3. 1.4 Example.\n",
    ">3 * x3 = 9\n",
    ">\n",
    ">x1 + 5 * x2 - 2 * x3 = 2\n",
    ">\n",
    ">1/3 * x1 + 2 * x2 = 3"
   ]
  },
  {
   "cell_type": "code",
   "execution_count": 75,
   "id": "56f05eaf-f894-4ba1-852a-6f9917345f53",
   "metadata": {},
   "outputs": [
    {
     "name": "stdout",
     "output_type": "stream",
     "text": [
      "SymPy version: 1.12\n",
      "<class 'dict'>\n",
      "{x1: 3.00000000000000, x2: 1.00000000000000, x3: 3.00000000000000}\n"
     ]
    }
   ],
   "source": [
    "import sympy as sp\n",
    "\n",
    "print(f\"SymPy version: {sp.__version__}\")\n",
    "\n",
    "x1, x2, x3 = sp.symbols(\"x1, x2, x3\")\n",
    "\n",
    "equation1 = 3 * x3 - 9\n",
    "equation2 = x1 + 5 * x2 - 2 * x3 - 2\n",
    "equation3 = 1/3 * x1 + 2 * x2 - 3\n",
    "\n",
    "result: dict = sp.solve([equation1, equation2, equation3], (x1, x2, x3))\n",
    "print(type(result))\n",
    "print(result)\n",
    "\n",
    "assert 3 == result[x1], f\"Actual value {x1}\"\n",
    "assert 1 == result[x2], f\"Actual value {x2}\"\n",
    "assert 3 == result[x3], f\"Actual value {x3}\""
   ]
  },
  {
   "cell_type": "code",
   "execution_count": 76,
   "id": "553e25b1-88cf-49eb-ac1d-53a63855c330",
   "metadata": {},
   "outputs": [
    {
     "name": "stdout",
     "output_type": "stream",
     "text": [
      "mpmath version: 1.3.0\n",
      "<class 'mpmath.matrices.matrices.matrix'>\n",
      "result cols=1 rows=3\n",
      "[3.0]\n",
      "[1.0]\n",
      "[3.0]\n",
      "<class 'mpmath.ctx_mp_python.mpf'>\n"
     ]
    }
   ],
   "source": [
    "import mpmath as mp\n",
    "\n",
    "print(f\"mpmath version: {mp.__version__}\")\n",
    "\n",
    "coefficient_matrix = [\n",
    "    [3, 0, 0],\n",
    "    [1, 5, -2],\n",
    "    [1/3, 2, 0]\n",
    "]\n",
    "constant_vector = [9, 2, 3]\n",
    "\n",
    "result = mp.lu_solve(coefficient_matrix, constant_vector)\n",
    "print(type(result))\n",
    "print(f\"result cols={result.cols} rows={result.rows}\")\n",
    "print(result)\n",
    "\n",
    "x1, x2, x3 = result\n",
    "print(type(x1))\n",
    "assert 3 == int(round(x1)), f\"Actual value {x1}\"\n",
    "assert 1 == int(x2), f\"Actual value {x2}\"\n",
    "assert 3 == int(x3), f\"Actual value {x3}\""
   ]
  },
  {
   "cell_type": "code",
   "execution_count": 77,
   "id": "d7658d02-652b-4da9-ac9d-8a1dbf5bf515",
   "metadata": {},
   "outputs": [
    {
     "name": "stdout",
     "output_type": "stream",
     "text": [
      "NumPy version: 1.3.0\n",
      "coefficient_matrix shape=(3, 3) ndim=2\n",
      "constant_vector shape=(3,) ndim=1\n",
      "<class 'numpy.ndarray'>\n",
      "result shape=(3,) ndim=1\n",
      "[3. 1. 3.]\n"
     ]
    }
   ],
   "source": [
    "import numpy as np\n",
    "\n",
    "print(f\"NumPy version: {mp.__version__}\")\n",
    "\n",
    "coefficient_matrix = np.array([\n",
    "    [3, 0, 0],\n",
    "    [1, 5, -2],\n",
    "    [1/3, 2, 0]\n",
    "])\n",
    "print(f\"coefficient_matrix shape={coefficient_matrix.shape} ndim={coefficient_matrix.ndim}\")\n",
    "\n",
    "constant_vector = np.array([9, 2, 3])\n",
    "print(f\"constant_vector shape={constant_vector.shape} ndim={constant_vector.ndim}\")\n",
    "\n",
    "result = np.linalg.solve(coefficient_matrix, constant_vector)\n",
    "print(type(result))\n",
    "print(f\"result shape={result.shape} ndim={result.ndim}\")\n",
    "print(result)\n",
    "\n",
    "x1, x2, x3 = result\n",
    "assert 3 == int(round(x1)), f\"Actual value {x1}\"\n",
    "assert 1 == int(round(x2)), f\"Actual value {x2}\"\n",
    "assert 3 == int(round(x3)), f\"Actual value {x3}\""
   ]
  },
  {
   "cell_type": "code",
   "execution_count": 80,
   "id": "1a46d34d-1c1e-4880-9296-d77294fc379c",
   "metadata": {},
   "outputs": [
    {
     "name": "stdout",
     "output_type": "stream",
     "text": [
      "SciPy version: 1.13.1\n",
      "<class 'numpy.ndarray'>\n",
      "result shape=(3,) ndim=1\n",
      "[3. 1. 3.]\n"
     ]
    }
   ],
   "source": [
    "import scipy\n",
    "\n",
    "print(f\"SciPy version: {scipy.__version__}\")\n",
    "\n",
    "coefficient_matrix = [\n",
    "    [3, 0, 0],\n",
    "    [1, 5, -2],\n",
    "    [1/3, 2, 0]\n",
    "]\n",
    "constant_vector = [9, 2, 3]\n",
    "\n",
    "result = scipy.linalg.solve(coefficient_matrix, constant_vector)\n",
    "print(type(result))\n",
    "print(f\"result shape={result.shape} ndim={result.ndim}\")\n",
    "print(result)\n",
    "\n",
    "x1, x2, x3 = result\n",
    "assert 3 == int(round(x1)), f\"Actual value {x1}\"\n",
    "assert 1 == int(round(x2)), f\"Actual value {x2}\"\n",
    "assert 3 == int(round(x3)), f\"Actual value {x3}\""
   ]
  },
  {
   "cell_type": "code",
   "execution_count": 74,
   "id": "8a975a92-03a2-40b2-8948-49c34dacd270",
   "metadata": {},
   "outputs": [
    {
     "name": "stdout",
     "output_type": "stream",
     "text": [
      "TensorFlow version: 2.16.2\n",
      "coefficient_matrix shape=(3, 3) ndim=2\n",
      "constant_vector shape=(3,) ndim=1\n",
      "constant_vector shape=(3, 1) ndim=2\n",
      "<class 'tensorflow.python.framework.ops.EagerTensor'>\n",
      "result shape=(3,) ndim=1\n",
      "tf.Tensor([3. 1. 3.], shape=(3,), dtype=float32)\n"
     ]
    }
   ],
   "source": [
    "import tensorflow as tf\n",
    "\n",
    "print(f\"TensorFlow version: {tf.__version__}\")\n",
    "\n",
    "coefficient_matrix = tf.constant([\n",
    "    [3, 0, 0],\n",
    "    [1, 5, -2],\n",
    "    [1/3, 2, 0]\n",
    "], dtype=tf.float32)\n",
    "print(f\"coefficient_matrix shape={coefficient_matrix.shape} ndim={coefficient_matrix.ndim}\")\n",
    "\n",
    "constant_vector = tf.constant([9, 2, 3], dtype=tf.float32)\n",
    "print(f\"constant_vector shape={constant_vector.shape} ndim={constant_vector.ndim}\")\n",
    "constant_vector = tf.reshape(constant_vector, (-1, 1))  # Reshape to a column vector\n",
    "print(f\"constant_vector shape={constant_vector.shape} ndim={constant_vector.ndim}\")\n",
    "\n",
    "result = tf.linalg.solve(coefficient_matrix, constant_vector)\n",
    "result = tf.squeeze(result)\n",
    "\n",
    "print(type(result))\n",
    "print(f\"result shape={result.shape} ndim={result.ndim}\")\n",
    "print(result)\n",
    "\n",
    "x1, x2, x3 = result\n",
    "assert tf.math.equal(x1, 3)\n",
    "assert tf.math.equal(x2, 1)\n",
    "assert tf.math.equal(x3, 3)"
   ]
  }
 ],
 "metadata": {
  "kernelspec": {
   "display_name": "Python 3 (ipykernel)",
   "language": "python",
   "name": "python3"
  },
  "language_info": {
   "codemirror_mode": {
    "name": "ipython",
    "version": 3
   },
   "file_extension": ".py",
   "mimetype": "text/x-python",
   "name": "python",
   "nbconvert_exporter": "python",
   "pygments_lexer": "ipython3",
   "version": "3.12.4"
  }
 },
 "nbformat": 4,
 "nbformat_minor": 5
}
